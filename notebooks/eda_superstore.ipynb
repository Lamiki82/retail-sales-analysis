{
 "cells": [
  {
   "cell_type": "markdown",
   "id": "9f085b1a",
   "metadata": {},
   "source": [
    "# 📈 Retail Sales Analysis - Business Intelligence su vendite e profitti"
   ]
  },
  {
   "cell_type": "code",
   "execution_count": null,
   "id": "2a69c509",
   "metadata": {},
   "outputs": [],
   "source": [
    "import pandas as pd\n",
    "import numpy as np\n",
    "import matplotlib.pyplot as plt\n",
    "import seaborn as sns\n",
    "\n",
    "import warnings\n",
    "warnings.filterwarnings('ignore')\n",
    "\n",
    "sns.set(style='whitegrid')\n",
    "plt.rcParams['figure.figsize'] = (12, 6)\n"
   ]
  },
  {
   "cell_type": "code",
   "execution_count": null,
   "id": "c3c5edd5",
   "metadata": {},
   "outputs": [],
   "source": [
    "df = pd.read_csv('../data/Superstore.csv', sep=';')\n",
    "df.head()\n"
   ]
  },
  {
   "cell_type": "code",
   "execution_count": null,
   "id": "771fa7e9",
   "metadata": {},
   "outputs": [],
   "source": [
    "df.info()\n",
    "df.describe(include='all')\n",
    "df.isnull().sum()\n"
   ]
  },
  {
   "cell_type": "code",
   "execution_count": null,
   "id": "6fd25e6c",
   "metadata": {},
   "outputs": [],
   "source": [
    "df.columns = df.columns.str.strip()\n",
    "df.rename(columns=lambda x: x.strip().replace(' ', '_'), inplace=True)\n",
    "df.columns\n"
   ]
  },
  {
   "cell_type": "code",
   "execution_count": null,
   "id": "63222131",
   "metadata": {},
   "outputs": [],
   "source": [
    "print(\"Vendite Totali: \", df['Sales'].sum())\n",
    "print(\"Profitto Totale: \", df['Profit'].sum())\n",
    "\n",
    "df['Order_Date'] = pd.to_datetime(df['Order_Date'], dayfirst=True)\n",
    "df.sort_values('Order_Date', inplace=True)\n"
   ]
  },
  {
   "cell_type": "code",
   "execution_count": null,
   "id": "49acd00b",
   "metadata": {},
   "outputs": [],
   "source": [
    "sales_trend = df.groupby('Order_Date')['Sales'].sum()\n",
    "\n",
    "plt.figure(figsize=(14,6))\n",
    "sales_trend.rolling(30).mean().plot(color='royalblue')\n",
    "plt.title(\"📈 Andamento delle Vendite nel Tempo (Media Mobile 30gg)\")\n",
    "plt.xlabel(\"Data\")\n",
    "plt.ylabel(\"Vendite\")\n",
    "plt.grid(True)\n",
    "plt.show()\n"
   ]
  },
  {
   "cell_type": "code",
   "execution_count": null,
   "id": "74cf9001",
   "metadata": {},
   "outputs": [],
   "source": [
    "pivot = df.pivot_table(values='Profit', index='Region', columns='Category', aggfunc='sum')\n",
    "\n",
    "plt.figure(figsize=(10,6))\n",
    "sns.heatmap(pivot, annot=True, fmt=\".0f\", cmap='RdYlGn', center=0)\n",
    "plt.title(\"🔥 Heatmap Profitto per Regione e Categoria\")\n",
    "plt.ylabel(\"Regione\")\n",
    "plt.xlabel(\"Categoria\")\n",
    "plt.show()\n"
   ]
  },
  {
   "cell_type": "code",
   "execution_count": null,
   "id": "c470b0ac",
   "metadata": {},
   "outputs": [],
   "source": [
    "cat_sales = df.groupby('Category')['Sales'].sum().sort_values(ascending=False)\n",
    "cat_profit = df.groupby('Category')['Profit'].sum().sort_values(ascending=False)\n",
    "\n",
    "fig, ax = plt.subplots(1, 2, figsize=(16,6))\n",
    "sns.barplot(x=cat_sales.values, y=cat_sales.index, ax=ax[0], palette='Blues_r')\n",
    "ax[0].set_title(\"💰 Vendite Totali per Categoria\")\n",
    "\n",
    "sns.barplot(x=cat_profit.values, y=cat_profit.index, ax=ax[1], palette='Greens_r')\n",
    "ax[1].set_title(\"📊 Profitto Totale per Categoria\")\n",
    "\n",
    "plt.tight_layout()\n",
    "plt.show()\n"
   ]
  },
  {
   "cell_type": "code",
   "execution_count": null,
   "id": "1df374fe",
   "metadata": {},
   "outputs": [],
   "source": [
    "top_category = df.groupby('Category')['Sales'].sum().idxmax()\n",
    "df_top_cat = df[df['Category'] == top_category]\n",
    "\n",
    "monthly_sales = df_top_cat.groupby(df_top_cat['Order_Date'].dt.to_period('M'))['Sales'].sum()\n",
    "\n",
    "monthly_sales.plot(kind='line', marker='o', color='orange')\n",
    "plt.title(f\"📅 Andamento Mensile Vendite - Categoria '{top_category}'\")\n",
    "plt.ylabel(\"Vendite\")\n",
    "plt.xlabel(\"Mese\")\n",
    "plt.grid(True)\n",
    "plt.show()\n"
   ]
  },
  {
   "cell_type": "markdown",
   "id": "0f117109",
   "metadata": {},
   "source": [
    "## 🎯 Conclusioni Chiave\n",
    "\n",
    "- Le vendite mostrano una crescita regolare, con picchi stagionali rilevanti.\n",
    "- Alcune regioni producono profitti negativi in categorie specifiche (viste nella heatmap).\n",
    "- La categoria **[nome_categoria]** ha le vendite più alte, ma non necessariamente il profitto più alto.\n",
    "- Possibili azioni: ottimizzare promozioni, migliorare margini dove il profitto è basso.\n"
   ]
  }
 ],
 "metadata": {},
 "nbformat": 4,
 "nbformat_minor": 5
}
