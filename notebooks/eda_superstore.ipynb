# eda_superstore.ipynb

import pandas as pd
import matplotlib.pyplot as plt
import seaborn as sns

# Caricamento dati
df = pd.read_csv("../data/Superstore.csv")

# Info di base
df.info()
df.describe()

# Visualizzazione rapida
df.head()

#PULIZIA DATASET
# Controllo valori nulli
df.isnull().sum()

# Conversione della colonna "Order Date" e "Ship Date" in datetime
df['Order Date'] = pd.to_datetime(df['Order Date'])
df['Ship Date'] = pd.to_datetime(df['Ship Date'])

# Creazione colonna "Shipping Duration"
df['Shipping Duration'] = (df['Ship Date'] - df['Order Date']).dt.days
