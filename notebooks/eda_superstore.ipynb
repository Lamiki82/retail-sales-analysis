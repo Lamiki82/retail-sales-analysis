# eda_superstore.ipynb

import pandas as pd
import matplotlib.pyplot as plt
import seaborn as sns

# Caricamento dati
df = pd.read_csv("data/Superstore.csv")

# Info di base
df.info()
df.describe()

# Visualizzazione rapida
df.head()
